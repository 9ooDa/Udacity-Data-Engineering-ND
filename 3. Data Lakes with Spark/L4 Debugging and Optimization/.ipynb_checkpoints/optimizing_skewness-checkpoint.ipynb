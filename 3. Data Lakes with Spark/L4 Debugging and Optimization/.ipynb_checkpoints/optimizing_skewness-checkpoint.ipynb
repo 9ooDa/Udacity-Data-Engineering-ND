{
 "cells": [
  {
   "cell_type": "code",
   "execution_count": 2,
   "id": "2753741d-0780-4f02-a0b9-61929e5504a1",
   "metadata": {},
   "outputs": [],
   "source": [
    "import pandas as pd"
   ]
  },
  {
   "cell_type": "code",
   "execution_count": 4,
   "id": "42076c78-2824-4edf-a1b5-aad8a468d3ab",
   "metadata": {},
   "outputs": [
    {
     "name": "stderr",
     "output_type": "stream",
     "text": [
      "C:\\Users\\dayeo\\anaconda3\\lib\\site-packages\\IPython\\core\\interactiveshell.py:3165: DtypeWarning: Columns (19,30,39,41,42,43) have mixed types.Specify dtype option on import or set low_memory=False.\n",
      "  has_raised = await self.run_ast_nodes(code_ast.body, cell_name,\n"
     ]
    },
    {
     "data": {
      "text/plain": [
       "Index(['Unnamed: 0', 'Summons_Number', 'Plate_ID', 'Registration_State',\n",
       "       'Plate_Type', 'Issue_Date', 'Violation_Code', 'Vehicle_Body_Type',\n",
       "       'Vehicle_Make', 'Issuing_Agency', 'Street_Code1', 'Street_Code2',\n",
       "       'Street_Code3', 'Vehicle_Expiration_Date', 'Violation_Location',\n",
       "       'Violation_Precinct', 'Issuer_Precinct', 'Issuer_Code',\n",
       "       'Issuer_Command', 'Issuer_Squad', 'Violation_Time',\n",
       "       'Time_First_Observed', 'Violation_County',\n",
       "       'Violation_In_Front_Of_Or_Opposite', 'House_Number', 'Street_Name',\n",
       "       'Intersecting_Street', 'Date_First_Observed', 'Law_Section',\n",
       "       'Sub_Division', 'Violation_Legal_Code', 'Days_Parking_In_Effect____',\n",
       "       'From_Hours_In_Effect', 'To_Hours_In_Effect', 'Vehicle_Color',\n",
       "       'Unregistered_Vehicle?', 'Vehicle_Year', 'Meter_Number',\n",
       "       'Feet_From_Curb', 'Violation_Post_Code', 'Violation_Description',\n",
       "       'No_Standing_or_Stopping_Violation', 'Hydrant_Violation',\n",
       "       'Double_Parking_Violation', 'Latitude', 'Longitude', 'Community_Board',\n",
       "       'Community_Council_', 'Census_Tract', 'BIN', 'BBL', 'NTA', 'year',\n",
       "       'month'],\n",
       "      dtype='object')"
      ]
     },
     "execution_count": 4,
     "metadata": {},
     "output_type": "execute_result"
    }
   ],
   "source": [
    "df = pd.read_csv('parking_violation.csv')\n",
    "df.columns"
   ]
  },
  {
   "cell_type": "code",
   "execution_count": 7,
   "id": "679781b5-05b4-43d5-aef8-c300e8bc4d09",
   "metadata": {},
   "outputs": [
    {
     "data": {
      "text/plain": [
       "2015    5986831\n",
       "2014    5821043\n",
       "2013        592\n",
       "2000        261\n",
       "2012        189\n",
       "2011        122\n",
       "2010        110\n",
       "2001         22\n",
       "2004         22\n",
       "2005         14\n",
       "2008          6\n",
       "2009          3\n",
       "2006          3\n",
       "2007          3\n",
       "2003          3\n",
       "2002          3\n",
       "1988          3\n",
       "1986          1\n",
       "1991          1\n",
       "1985          1\n",
       "Name: year, dtype: int64"
      ]
     },
     "execution_count": 7,
     "metadata": {},
     "output_type": "execute_result"
    }
   ],
   "source": [
    "df.year.value_counts()"
   ]
  },
  {
   "cell_type": "code",
   "execution_count": 5,
   "id": "be647ec8-6ae5-47e0-a222-f1801b305043",
   "metadata": {},
   "outputs": [
    {
     "data": {
      "text/plain": [
       "1     1392992\n",
       "6     1276592\n",
       "5     1040148\n",
       "9     1029583\n",
       "7      969938\n",
       "10     966456\n",
       "3      965119\n",
       "4      951716\n",
       "8      911641\n",
       "11     798897\n",
       "12     774287\n",
       "2      731864\n",
       "Name: month, dtype: int64"
      ]
     },
     "execution_count": 5,
     "metadata": {},
     "output_type": "execute_result"
    }
   ],
   "source": [
    "df.month.value_counts()"
   ]
  },
  {
   "cell_type": "code",
   "execution_count": 6,
   "id": "52978440-a39a-49d4-b3d5-2853bb54ab20",
   "metadata": {},
   "outputs": [
    {
     "data": {
      "text/plain": [
       "NY    9193289\n",
       "NJ    1080414\n",
       "PA     298877\n",
       "CT     160361\n",
       "FL     148868\n",
       "       ...   \n",
       "SK         26\n",
       "NF         18\n",
       "FO         10\n",
       "YT          6\n",
       "NT          6\n",
       "Name: Registration_State, Length: 69, dtype: int64"
      ]
     },
     "execution_count": 6,
     "metadata": {},
     "output_type": "execute_result"
    }
   ],
   "source": [
    "df.Registration_State.value_counts()"
   ]
  },
  {
   "cell_type": "code",
   "execution_count": null,
   "id": "6d3028fe-e710-4881-85cd-fde343069302",
   "metadata": {},
   "outputs": [],
   "source": []
  }
 ],
 "metadata": {
  "kernelspec": {
   "display_name": "Python 3",
   "language": "python",
   "name": "python3"
  },
  "language_info": {
   "codemirror_mode": {
    "name": "ipython",
    "version": 3
   },
   "file_extension": ".py",
   "mimetype": "text/x-python",
   "name": "python",
   "nbconvert_exporter": "python",
   "pygments_lexer": "ipython3",
   "version": "3.8.8"
  }
 },
 "nbformat": 4,
 "nbformat_minor": 5
}
